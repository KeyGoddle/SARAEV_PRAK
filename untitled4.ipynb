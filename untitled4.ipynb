{
  "nbformat": 4,
  "nbformat_minor": 0,
  "metadata": {
    "colab": {
      "provenance": [],
      "authorship_tag": "ABX9TyMQyDryc+kvOOSaSAjpl9if",
      "include_colab_link": true
    },
    "kernelspec": {
      "name": "python3",
      "display_name": "Python 3"
    },
    "language_info": {
      "name": "python"
    }
  },
  "cells": [
    {
      "cell_type": "markdown",
      "metadata": {
        "id": "view-in-github",
        "colab_type": "text"
      },
      "source": [
        "<a href=\"https://colab.research.google.com/github/KeyGoddle/SARAEV_PRAK/blob/main/untitled4.ipynb\" target=\"_parent\"><img src=\"https://colab.research.google.com/assets/colab-badge.svg\" alt=\"Open In Colab\"/></a>"
      ]
    },
    {
      "cell_type": "code",
      "source": [
        "!pip install deap\n"
      ],
      "metadata": {
        "colab": {
          "base_uri": "https://localhost:8080/"
        },
        "id": "DTJ3wxE7sTsQ",
        "outputId": "d08e8dff-ae61-4f22-b791-04736072cde3"
      },
      "execution_count": null,
      "outputs": [
        {
          "output_type": "stream",
          "name": "stdout",
          "text": [
            "Collecting deap\n",
            "  Downloading deap-1.4.1-cp310-cp310-manylinux_2_5_x86_64.manylinux1_x86_64.manylinux_2_17_x86_64.manylinux2014_x86_64.whl.metadata (13 kB)\n",
            "Requirement already satisfied: numpy in /usr/local/lib/python3.10/dist-packages (from deap) (1.26.4)\n",
            "Downloading deap-1.4.1-cp310-cp310-manylinux_2_5_x86_64.manylinux1_x86_64.manylinux_2_17_x86_64.manylinux2014_x86_64.whl (135 kB)\n",
            "\u001b[?25l   \u001b[90m━━━━━━━━━━━━━━━━━━━━━━━━━━━━━━━━━━━━━━━━\u001b[0m \u001b[32m0.0/135.4 kB\u001b[0m \u001b[31m?\u001b[0m eta \u001b[36m-:--:--\u001b[0m\r\u001b[2K   \u001b[90m━━━━━━━━━━━━━━━━━━━━━━━━━━━━━━━━━━━━━━━━\u001b[0m \u001b[32m135.4/135.4 kB\u001b[0m \u001b[31m4.1 MB/s\u001b[0m eta \u001b[36m0:00:00\u001b[0m\n",
            "\u001b[?25hInstalling collected packages: deap\n",
            "Successfully installed deap-1.4.1\n"
          ]
        }
      ]
    },
    {
      "cell_type": "code",
      "execution_count": null,
      "metadata": {
        "id": "JzIl2kdLqvqr"
      },
      "outputs": [],
      "source": [
        "import numpy as np\n",
        "import tensorflow as tf\n",
        "from keras import layers, models\n",
        "from sklearn.model_selection import train_test_split\n",
        "from sklearn.preprocessing import StandardScaler\n",
        "from minisom import MiniSom\n",
        "from deap import base, creator, tools, algorithms\n",
        "import random\n",
        "import time\n",
        "import matplotlib.pyplot as plt\n"
      ]
    },
    {
      "cell_type": "markdown",
      "source": [
        "# MNIST"
      ],
      "metadata": {
        "id": "bImznu-mso9C"
      }
    },
    {
      "cell_type": "code",
      "source": [
        "# Загрузка MNIST\n",
        "(x_train, y_train), (x_test, y_test) = tf.keras.datasets.mnist.load_data()\n",
        "\n",
        "# Преобразование данных\n",
        "x_train = x_train / 255.0\n",
        "x_test = x_test / 255.0\n",
        "\n",
        "# Преобразование меток в категориальные данные\n",
        "y_train = tf.keras.utils.to_categorical(y_train, 10)\n",
        "y_test = tf.keras.utils.to_categorical(y_test, 10)\n",
        "\n",
        "# Преобразование изображений в одномерный массив\n",
        "x_train = x_train.reshape(x_train.shape[0], -1)\n",
        "x_test = x_test.reshape(x_test.shape[0], -1)\n"
      ],
      "metadata": {
        "colab": {
          "base_uri": "https://localhost:8080/"
        },
        "id": "IGIKGmPVsOlb",
        "outputId": "54be43b8-482d-418d-91ce-882aeb4e6362"
      },
      "execution_count": null,
      "outputs": [
        {
          "output_type": "stream",
          "name": "stdout",
          "text": [
            "Downloading data from https://storage.googleapis.com/tensorflow/tf-keras-datasets/mnist.npz\n",
            "\u001b[1m11490434/11490434\u001b[0m \u001b[32m━━━━━━━━━━━━━━━━━━━━\u001b[0m\u001b[37m\u001b[0m \u001b[1m0s\u001b[0m 0us/step\n"
          ]
        }
      ]
    },
    {
      "cell_type": "markdown",
      "source": [
        "# CIFAR-10"
      ],
      "metadata": {
        "id": "M65bt8hnsrZ1"
      }
    },
    {
      "cell_type": "code",
      "source": [
        "# Загрузка CIFAR-10\n",
        "(x_train_cifar, y_train_cifar), (x_test_cifar, y_test_cifar) = tf.keras.datasets.cifar10.load_data()\n",
        "\n",
        "# Нормализация данных\n",
        "x_train_cifar = x_train_cifar / 255.0\n",
        "x_test_cifar = x_test_cifar / 255.0\n",
        "\n",
        "# Преобразование меток в категориальные данные\n",
        "y_train_cifar = tf.keras.utils.to_categorical(y_train_cifar, 10)\n",
        "y_test_cifar = tf.keras.utils.to_categorical(y_test_cifar, 10)\n"
      ],
      "metadata": {
        "colab": {
          "base_uri": "https://localhost:8080/"
        },
        "id": "q_fQVFdmsmuW",
        "outputId": "40f09d93-37f8-4395-c616-da5703a3ad32"
      },
      "execution_count": null,
      "outputs": [
        {
          "output_type": "stream",
          "name": "stdout",
          "text": [
            "Downloading data from https://www.cs.toronto.edu/~kriz/cifar-10-python.tar.gz\n",
            "\u001b[1m170498071/170498071\u001b[0m \u001b[32m━━━━━━━━━━━━━━━━━━━━\u001b[0m\u001b[37m\u001b[0m \u001b[1m4s\u001b[0m 0us/step\n"
          ]
        }
      ]
    },
    {
      "cell_type": "markdown",
      "source": [
        "Реализация алгоритма SOM"
      ],
      "metadata": {
        "id": "T6mYg09_stE_"
      }
    },
    {
      "cell_type": "code",
      "source": [
        "def train_som(x_train, grid_size=10, num_iteration=1000):\n",
        "    # Инициализация SOM\n",
        "    som = MiniSom(grid_size, grid_size, x_train.shape[1], sigma=1.0, learning_rate=0.5)\n",
        "    som.train_random(x_train, num_iteration)\n",
        "\n",
        "    return som\n"
      ],
      "metadata": {
        "id": "NbIQ6hqFst8S"
      },
      "execution_count": null,
      "outputs": []
    },
    {
      "cell_type": "markdown",
      "source": [
        "# Генетический алгоритм для оптимизации гиперпараметров"
      ],
      "metadata": {
        "id": "XIPq8oOmsxAS"
      }
    },
    {
      "cell_type": "code",
      "source": [],
      "metadata": {
        "id": "tB32lS6JswX6"
      },
      "execution_count": null,
      "outputs": []
    },
    {
      "cell_type": "markdown",
      "source": [
        "# Обучение и тестирование модели с использованием SOM и генетического алгоритма"
      ],
      "metadata": {
        "id": "ydey_YQbs0Vu"
      }
    },
    {
      "cell_type": "code",
      "source": [
        "def combined_training(x_train, y_train, x_test, y_test, som_grid_size=10, som_iterations=1000, generations=10, population_size=20):\n",
        "    # Шаг 1: Обучение SOM\n",
        "    som = train_som(x_train, grid_size=som_grid_size, num_iteration=som_iterations)\n",
        "\n",
        "    # Шаг 2: Оптимизация гиперпараметров с использованием генетического алгоритма\n",
        "    best_hyperparameters = optimize_hyperparameters(x_train, y_train, generations=generations, population_size=population_size)\n",
        "\n",
        "    # Шаг 3: Обучение финальной модели с оптимизированными гиперпараметрами\n",
        "    model = models.Sequential()\n",
        "    model.add(layers.Dense(best_hyperparameters[0], activation='relu', input_shape=(x_train.shape[1],)))\n",
        "    for _ in range(best_hyperparameters[1]):\n",
        "        model.add(layers.Dense(best_hyperparameters[0], activation='relu'))\n",
        "    model.add(layers.Dense(10, activation='softmax'))\n",
        "\n",
        "    model.compile(optimizer=tf.keras.optimizers.Adam(learning_rate=best_hyperparameters[2]),\n",
        "                  loss='categorical_crossentropy', metrics=['accuracy'])\n",
        "\n",
        "    # Обучение модели\n",
        "    model.fit(x_train, y_train, epochs=10, batch_size=64)\n",
        "\n",
        "    # Оценка модели\n",
        "    accuracy = model.evaluate(x_test, y_test)\n",
        "    print(\"Test accuracy:\", accuracy)\n",
        "    return model, accuracy\n"
      ],
      "metadata": {
        "id": "RE-6iOTPs00t"
      },
      "execution_count": null,
      "outputs": []
    },
    {
      "cell_type": "markdown",
      "source": [
        "# Сравнение с традиционным методом обучения"
      ],
      "metadata": {
        "id": "DTJ_7Hk4s3E6"
      }
    },
    {
      "cell_type": "code",
      "source": [
        "def traditional_training(x_train, y_train, x_test, y_test):\n",
        "    # Традиционное обучение без SOM и генетического алгоритма\n",
        "    model = models.Sequential()\n",
        "    model.add(layers.Dense(64, activation='relu', input_shape=(x_train.shape[1],)))\n",
        "    model.add(layers.Dense(64, activation='relu'))\n",
        "    model.add(layers.Dense(10, activation='softmax'))\n",
        "\n",
        "    model.compile(optimizer='adam', loss='categorical_crossentropy', metrics=['accuracy'])\n",
        "    model.fit(x_train, y_train, epochs=10, batch_size=64)\n",
        "    accuracy = model.evaluate(x_test, y_test)\n",
        "    print(\"Test accuracy (traditional):\", accuracy)\n",
        "    return model, accuracy\n"
      ],
      "metadata": {
        "id": "nk0Y12Kos3kD"
      },
      "execution_count": null,
      "outputs": []
    },
    {
      "cell_type": "markdown",
      "source": [
        "# Визуализация и выводы"
      ],
      "metadata": {
        "id": "0_Y9EwjFs54V"
      }
    },
    {
      "cell_type": "code",
      "source": [
        "import numpy as np\n",
        "import tensorflow as tf\n",
        "from keras import layers, models\n",
        "from sklearn.model_selection import train_test_split\n",
        "from sklearn.preprocessing import StandardScaler\n",
        "from minisom import MiniSom\n",
        "from deap import base, creator, tools, algorithms\n",
        "import random\n",
        "import time\n",
        "import matplotlib.pyplot as plt\n",
        "\n",
        "# Загрузка и подготовка данных MNIST\n",
        "(x_train, y_train), (x_test, y_test) = tf.keras.datasets.mnist.load_data()\n",
        "x_train = x_train / 255.0  # Нормализация\n",
        "x_test = x_test / 255.0    # Нормализация\n",
        "\n",
        "y_train = tf.keras.utils.to_categorical(y_train, 10)  # Преобразование меток в категории\n",
        "y_test = tf.keras.utils.to_categorical(y_test, 10)\n",
        "\n",
        "x_train = x_train.reshape(x_train.shape[0], -1)  # Преобразование изображений в одномерный массив\n",
        "x_test = x_test.reshape(x_test.shape[0], -1)      # Преобразование изображений в одномерный массив\n",
        "\n",
        "# Функция для обучения SOM\n",
        "def train_som(x_train, grid_size=10, num_iteration=1000):\n",
        "    som = MiniSom(grid_size, grid_size, x_train.shape[1], sigma=1.0, learning_rate=0.5)\n",
        "    som.train_random(x_train, num_iteration)\n",
        "    return som\n",
        "\n",
        "# Генетический алгоритм для оптимизации гиперпараметров\n",
        "def optimize_hyperparameters(x_train, y_train, generations=10, population_size=20):\n",
        "    creator.create(\"FitnessMax\", base.Fitness, weights=(1.0,))\n",
        "    creator.create(\"Individual\", list, fitness=creator.FitnessMax)\n",
        "\n",
        "    def evaluate(individual):\n",
        "        model = models.Sequential()\n",
        "        model.add(layers.Dense(individual[0], activation='relu', input_shape=(x_train.shape[1],)))\n",
        "        for _ in range(individual[1]):\n",
        "            model.add(layers.Dense(individual[0], activation='relu'))\n",
        "        model.add(layers.Dense(10, activation='softmax'))\n",
        "        def check_learning_rate(lr):\n",
        "          # Ограничение learning_rate в пределах от 0.0001 до 0.01\n",
        "          return max(0.0001, min(lr, 0.01))\n",
        "\n",
        "        # Применяем проверку на learning_rate\n",
        "        learning_rate = check_learning_rate(individual[2])\n",
        "        model.compile(optimizer=tf.keras.optimizers.Adam(learning_rate=learning_rate),\n",
        "                      loss='categorical_crossentropy', metrics=['accuracy'])\n",
        "\n",
        "        model.fit(x_train, y_train, epochs=3, batch_size=64, verbose=0)\n",
        "        _, accuracy = model.evaluate(x_test, y_test, verbose=0)\n",
        "        return (accuracy,)\n",
        "\n",
        "    def create_individual():\n",
        "        return [random.randint(32, 128), random.randint(1, 3), random.uniform(0.0001, 0.01)]\n",
        "\n",
        "    toolbox = base.Toolbox()\n",
        "    toolbox.register(\"individual\", tools.initIterate, creator.Individual, create_individual)\n",
        "    toolbox.register(\"population\", tools.initRepeat, list, toolbox.individual)\n",
        "    toolbox.register(\"mate\", tools.cxTwoPoint)\n",
        "    toolbox.register(\"mutate\", tools.mutUniformInt, low=32, up=128, indpb=0.2)\n",
        "    toolbox.register(\"select\", tools.selTournament, tournsize=3)\n",
        "    toolbox.register(\"evaluate\", evaluate)\n",
        "\n",
        "    population = toolbox.population(n=population_size)\n",
        "    algorithms.eaSimple(population, toolbox, cxpb=0.7, mutpb=0.2, ngen=generations, verbose=True)\n",
        "\n",
        "    best_individual = tools.selBest(population, 1)[0]\n",
        "    return best_individual\n",
        "\n",
        "# Совмещение SOM и генетического алгоритма\n",
        "def combined_training(x_train, y_train, x_test, y_test, som_grid_size=10, som_iterations=1000, generations=10, population_size=20):\n",
        "    som = train_som(x_train, grid_size=som_grid_size, num_iteration=som_iterations)\n",
        "    best_hyperparameters = optimize_hyperparameters(x_train, y_train, generations=generations, population_size=population_size)\n",
        "\n",
        "    model = models.Sequential()\n",
        "    model.add(layers.Dense(best_hyperparameters[0], activation='relu', input_shape=(x_train.shape[1],)))\n",
        "    for _ in range(best_hyperparameters[1]):\n",
        "        model.add(layers.Dense(best_hyperparameters[0], activation='relu'))\n",
        "    model.add(layers.Dense(10, activation='softmax'))\n",
        "\n",
        "    def check_learning_rate(lr):\n",
        "        # Ограничение learning_rate в пределах от 0.0001 до 0.01\n",
        "        return max(0.0001, min(lr, 0.01))\n",
        "\n",
        "    # Применяем проверку перед компиляцией модели\n",
        "    learning_rate = check_learning_rate(best_hyperparameters[2])\n",
        "    model.compile(optimizer=tf.keras.optimizers.Adam(learning_rate=learning_rate),\n",
        "                  loss='categorical_crossentropy', metrics=['accuracy'])\n",
        "\n",
        "\n",
        "    model.fit(x_train, y_train, epochs=10, batch_size=64)\n",
        "    accuracy = model.evaluate(x_test, y_test)\n",
        "    print(\"Test accuracy:\", accuracy)\n",
        "    return model, accuracy\n",
        "\n",
        "# Традиционное обучение\n",
        "def traditional_training(x_train, y_train, x_test, y_test):\n",
        "    model = models.Sequential()\n",
        "    model.add(layers.Dense(64, activation='relu', input_shape=(x_train.shape[1],)))\n",
        "    model.add(layers.Dense(64, activation='relu'))\n",
        "    model.add(layers.Dense(10, activation='softmax'))\n",
        "\n",
        "    model.compile(optimizer='adam', loss='categorical_crossentropy', metrics=['accuracy'])\n",
        "    model.fit(x_train, y_train, epochs=10, batch_size=64)\n",
        "    accuracy = model.evaluate(x_test, y_test)\n",
        "    print(\"Test accuracy (traditional):\", accuracy)\n",
        "    return model, accuracy\n",
        "\n",
        "# Визуализация результатов\n",
        "def plot_results(accuracy1, accuracy2):\n",
        "    labels = ['SOM + GA', 'Traditional']\n",
        "    accuracies = [accuracy1[1], accuracy2[1]]\n",
        "\n",
        "    plt.bar(labels, accuracies)\n",
        "    plt.ylabel('Accuracy')\n",
        "    plt.title('Comparison of Models')\n",
        "    plt.show()\n",
        "\n",
        "# 2. Обучение с использованием SOM и генетического алгоритма на MNIST\n",
        "som_grid_size = 10\n",
        "som_iterations = 1000\n",
        "generations = 10\n",
        "population_size = 20\n",
        "\n",
        "model_som_ga, accuracy_som_ga = combined_training(x_train, y_train, x_test, y_test,\n",
        "                                                  som_grid_size=som_grid_size,\n",
        "                                                  som_iterations=som_iterations,\n",
        "                                                  generations=generations,\n",
        "                                                  population_size=population_size)\n",
        "\n",
        "# 3. Традиционное обучение для сравнения на MNIST\n",
        "model_traditional, accuracy_traditional = traditional_training(x_train, y_train, x_test, y_test)\n",
        "\n",
        "# 4. Визуализация результатов\n",
        "plot_results(accuracy_som_ga, accuracy_traditional)\n"
      ],
      "metadata": {
        "colab": {
          "base_uri": "https://localhost:8080/",
          "height": 1000
        },
        "id": "zHyLbdisvmBQ",
        "outputId": "f6a1459e-62f3-4506-d476-41b4b4372678"
      },
      "execution_count": null,
      "outputs": [
        {
          "output_type": "stream",
          "name": "stdout",
          "text": [
            "gen\tnevals\n",
            "0  \t20    \n",
            "1  \t13    \n",
            "2  \t13    \n",
            "3  \t14    \n",
            "4  \t16    \n",
            "5  \t15    \n",
            "6  \t20    \n",
            "7  \t15    \n",
            "8  \t12    \n",
            "9  \t18    \n",
            "10 \t15    \n",
            "Epoch 1/10\n",
            "\u001b[1m938/938\u001b[0m \u001b[32m━━━━━━━━━━━━━━━━━━━━\u001b[0m\u001b[37m\u001b[0m \u001b[1m5s\u001b[0m 5ms/step - accuracy: 0.8770 - loss: 0.4147\n",
            "Epoch 2/10\n",
            "\u001b[1m938/938\u001b[0m \u001b[32m━━━━━━━━━━━━━━━━━━━━\u001b[0m\u001b[37m\u001b[0m \u001b[1m4s\u001b[0m 4ms/step - accuracy: 0.9698 - loss: 0.0987\n",
            "Epoch 3/10\n",
            "\u001b[1m938/938\u001b[0m \u001b[32m━━━━━━━━━━━━━━━━━━━━\u001b[0m\u001b[37m\u001b[0m \u001b[1m4s\u001b[0m 4ms/step - accuracy: 0.9791 - loss: 0.0672\n",
            "Epoch 4/10\n",
            "\u001b[1m938/938\u001b[0m \u001b[32m━━━━━━━━━━━━━━━━━━━━\u001b[0m\u001b[37m\u001b[0m \u001b[1m4s\u001b[0m 4ms/step - accuracy: 0.9845 - loss: 0.0511\n",
            "Epoch 5/10\n",
            "\u001b[1m938/938\u001b[0m \u001b[32m━━━━━━━━━━━━━━━━━━━━\u001b[0m\u001b[37m\u001b[0m \u001b[1m5s\u001b[0m 4ms/step - accuracy: 0.9861 - loss: 0.0440\n",
            "Epoch 6/10\n",
            "\u001b[1m938/938\u001b[0m \u001b[32m━━━━━━━━━━━━━━━━━━━━\u001b[0m\u001b[37m\u001b[0m \u001b[1m5s\u001b[0m 4ms/step - accuracy: 0.9896 - loss: 0.0325\n",
            "Epoch 7/10\n",
            "\u001b[1m938/938\u001b[0m \u001b[32m━━━━━━━━━━━━━━━━━━━━\u001b[0m\u001b[37m\u001b[0m \u001b[1m7s\u001b[0m 5ms/step - accuracy: 0.9912 - loss: 0.0270\n",
            "Epoch 8/10\n",
            "\u001b[1m938/938\u001b[0m \u001b[32m━━━━━━━━━━━━━━━━━━━━\u001b[0m\u001b[37m\u001b[0m \u001b[1m4s\u001b[0m 4ms/step - accuracy: 0.9914 - loss: 0.0262\n",
            "Epoch 9/10\n",
            "\u001b[1m938/938\u001b[0m \u001b[32m━━━━━━━━━━━━━━━━━━━━\u001b[0m\u001b[37m\u001b[0m \u001b[1m4s\u001b[0m 4ms/step - accuracy: 0.9929 - loss: 0.0217\n",
            "Epoch 10/10\n",
            "\u001b[1m938/938\u001b[0m \u001b[32m━━━━━━━━━━━━━━━━━━━━\u001b[0m\u001b[37m\u001b[0m \u001b[1m5s\u001b[0m 5ms/step - accuracy: 0.9947 - loss: 0.0161\n",
            "\u001b[1m313/313\u001b[0m \u001b[32m━━━━━━━━━━━━━━━━━━━━\u001b[0m\u001b[37m\u001b[0m \u001b[1m1s\u001b[0m 3ms/step - accuracy: 0.9738 - loss: 0.1137\n",
            "Test accuracy: [0.09574539959430695, 0.9779999852180481]\n",
            "Epoch 1/10\n",
            "\u001b[1m938/938\u001b[0m \u001b[32m━━━━━━━━━━━━━━━━━━━━\u001b[0m\u001b[37m\u001b[0m \u001b[1m3s\u001b[0m 3ms/step - accuracy: 0.8350 - loss: 0.5641\n",
            "Epoch 2/10\n",
            "\u001b[1m938/938\u001b[0m \u001b[32m━━━━━━━━━━━━━━━━━━━━\u001b[0m\u001b[37m\u001b[0m \u001b[1m2s\u001b[0m 2ms/step - accuracy: 0.9526 - loss: 0.1555\n",
            "Epoch 3/10\n",
            "\u001b[1m938/938\u001b[0m \u001b[32m━━━━━━━━━━━━━━━━━━━━\u001b[0m\u001b[37m\u001b[0m \u001b[1m2s\u001b[0m 2ms/step - accuracy: 0.9657 - loss: 0.1141\n",
            "Epoch 4/10\n",
            "\u001b[1m938/938\u001b[0m \u001b[32m━━━━━━━━━━━━━━━━━━━━\u001b[0m\u001b[37m\u001b[0m \u001b[1m3s\u001b[0m 3ms/step - accuracy: 0.9730 - loss: 0.0876\n",
            "Epoch 5/10\n",
            "\u001b[1m938/938\u001b[0m \u001b[32m━━━━━━━━━━━━━━━━━━━━\u001b[0m\u001b[37m\u001b[0m \u001b[1m3s\u001b[0m 3ms/step - accuracy: 0.9772 - loss: 0.0719\n",
            "Epoch 6/10\n",
            "\u001b[1m938/938\u001b[0m \u001b[32m━━━━━━━━━━━━━━━━━━━━\u001b[0m\u001b[37m\u001b[0m \u001b[1m4s\u001b[0m 3ms/step - accuracy: 0.9816 - loss: 0.0586\n",
            "Epoch 7/10\n",
            "\u001b[1m938/938\u001b[0m \u001b[32m━━━━━━━━━━━━━━━━━━━━\u001b[0m\u001b[37m\u001b[0m \u001b[1m3s\u001b[0m 3ms/step - accuracy: 0.9850 - loss: 0.0489\n",
            "Epoch 8/10\n",
            "\u001b[1m938/938\u001b[0m \u001b[32m━━━━━━━━━━━━━━━━━━━━\u001b[0m\u001b[37m\u001b[0m \u001b[1m3s\u001b[0m 3ms/step - accuracy: 0.9863 - loss: 0.0416\n",
            "Epoch 9/10\n",
            "\u001b[1m938/938\u001b[0m \u001b[32m━━━━━━━━━━━━━━━━━━━━\u001b[0m\u001b[37m\u001b[0m \u001b[1m5s\u001b[0m 3ms/step - accuracy: 0.9889 - loss: 0.0354\n",
            "Epoch 10/10\n",
            "\u001b[1m938/938\u001b[0m \u001b[32m━━━━━━━━━━━━━━━━━━━━\u001b[0m\u001b[37m\u001b[0m \u001b[1m3s\u001b[0m 3ms/step - accuracy: 0.9906 - loss: 0.0302\n",
            "\u001b[1m313/313\u001b[0m \u001b[32m━━━━━━━━━━━━━━━━━━━━\u001b[0m\u001b[37m\u001b[0m \u001b[1m1s\u001b[0m 2ms/step - accuracy: 0.9686 - loss: 0.1048\n",
            "Test accuracy (traditional): [0.09292248636484146, 0.972000002861023]\n"
          ]
        },
        {
          "output_type": "display_data",
          "data": {
            "text/plain": [
              "<Figure size 640x480 with 1 Axes>"
            ],
            "image/png": "[encoded data removed]"
          },
          "metadata": {}
        }
      ]
    },
    {
      "cell_type": "code",
      "source": [
        "from sklearn.metrics import classification_report, confusion_matrix, roc_auc_score\n",
        "import numpy as np\n"
      ],
      "metadata": {
        "id": "OvdNPVBHBkQf"
      },
      "execution_count": null,
      "outputs": []
    },
    {
      "cell_type": "code",
      "source": [
        "model_som_ga.save(\"model_som_ga.h5\")\n",
        "model_traditional.save(\"model_traditional.h5\")\n"
      ],
      "metadata": {
        "colab": {
          "base_uri": "https://localhost:8080/"
        },
        "id": "EmTf3mWeDFPp",
        "outputId": "423116b6-8f8d-45b9-d3c1-2aa17ee44f14"
      },
      "execution_count": null,
      "outputs": [
        {
          "output_type": "stream",
          "name": "stderr",
          "text": [
            "WARNING:absl:You are saving your model as an HDF5 file via `model.save()` or `keras.saving.save_model(model)`. This file format is considered legacy. We recommend using instead the native Keras format, e.g. `model.save('my_model.keras')` or `keras.saving.save_model(model, 'my_model.keras')`. \n",
            "WARNING:absl:You are saving your model as an HDF5 file via `model.save()` or `keras.saving.save_model(model)`. This file format is considered legacy. We recommend using instead the native Keras format, e.g. `model.save('my_model.keras')` or `keras.saving.save_model(model, 'my_model.keras')`. \n"
          ]
        }
      ]
    },
    {
      "cell_type": "code",
      "source": [
        "from keras.models import load_model\n",
        "\n",
        "model_som_ga = load_model(\"model_som_ga.h5\")\n",
        "model_traditional = load_model(\"model_traditional.h5\")\n"
      ],
      "metadata": {
        "colab": {
          "base_uri": "https://localhost:8080/"
        },
        "id": "upo9O1VgDgy2",
        "outputId": "ed1abad1-e85b-4319-bf77-3445615b8d18"
      },
      "execution_count": null,
      "outputs": [
        {
          "output_type": "stream",
          "name": "stderr",
          "text": [
            "WARNING:absl:Compiled the loaded model, but the compiled metrics have yet to be built. `model.compile_metrics` will be empty until you train or evaluate the model.\n",
            "WARNING:absl:Compiled the loaded model, but the compiled metrics have yet to be built. `model.compile_metrics` will be empty until you train or evaluate the model.\n"
          ]
        }
      ]
    },
    {
      "cell_type": "code",
      "source": [
        "y_pred_som_ga = model_som_ga.predict(x_test)\n",
        "y_pred_traditional = model_traditional.predict(x_test)\n",
        "\n",
        "y_pred_som_ga_labels = np.argmax(y_pred_som_ga, axis=1)\n",
        "y_pred_traditional_labels = np.argmax(y_pred_traditional, axis=1)\n",
        "y_true_labels = np.argmax(y_test, axis=1)\n",
        "\n",
        "# Classification report and confusion matrix\n",
        "print(\"Classification Report for SOM + GA:\")\n",
        "print(classification_report(y_true_labels, y_pred_som_ga_labels))\n",
        "print(\"Confusion Matrix for SOM + GA:\")\n",
        "print(confusion_matrix(y_true_labels, y_pred_som_ga_labels))\n",
        "\n",
        "print(\"Classification Report for Traditional:\")\n",
        "print(classification_report(y_true_labels, y_pred_traditional_labels))\n",
        "print(\"Confusion Matrix for Traditional:\")\n",
        "print(confusion_matrix(y_true_labels, y_pred_traditional_labels))\n"
      ],
      "metadata": {
        "colab": {
          "base_uri": "https://localhost:8080/"
        },
        "id": "CecA7HGSDjL4",
        "outputId": "58c558a5-5afe-4efa-ad6f-d2b6acd5717f"
      },
      "execution_count": null,
      "outputs": [
        {
          "output_type": "stream",
          "name": "stdout",
          "text": [
            "\u001b[1m313/313\u001b[0m \u001b[32m━━━━━━━━━━━━━━━━━━━━\u001b[0m\u001b[37m\u001b[0m \u001b[1m1s\u001b[0m 2ms/step\n",
            "\u001b[1m313/313\u001b[0m \u001b[32m━━━━━━━━━━━━━━━━━━━━\u001b[0m\u001b[37m\u001b[0m \u001b[1m1s\u001b[0m 2ms/step\n",
            "Classification Report for SOM + GA:\n",
            "              precision    recall  f1-score   support\n",
            "\n",
            "           0       0.98      0.99      0.98       980\n",
            "           1       0.99      0.99      0.99      1135\n",
            "           2       0.98      0.97      0.98      1032\n",
            "           3       0.97      0.98      0.98      1010\n",
            "           4       0.98      0.98      0.98       982\n",
            "           5       0.98      0.96      0.97       892\n",
            "           6       0.99      0.99      0.99       958\n",
            "           7       0.98      0.97      0.97      1028\n",
            "           8       0.98      0.96      0.97       974\n",
            "           9       0.96      0.98      0.97      1009\n",
            "\n",
            "    accuracy                           0.98     10000\n",
            "   macro avg       0.98      0.98      0.98     10000\n",
            "weighted avg       0.98      0.98      0.98     10000\n",
            "\n",
            "Confusion Matrix for SOM + GA:\n",
            "[[ 971    1    0    1    0    3    1    1    2    0]\n",
            " [   0 1128    2    1    0    1    1    0    2    0]\n",
            " [   3    2 1004    4    5    0    1    8    5    0]\n",
            " [   0    0    2  991    0    3    0    5    0    9]\n",
            " [   3    1    4    1  962    0    3    1    0    7]\n",
            " [   2    1    0   12    2  860    2    1    5    7]\n",
            " [   3    2    0    1    2    3  946    0    1    0]\n",
            " [   3    3   11    3    1    0    0  997    4    6]\n",
            " [   6    0    4    7    2    3    2    4  937    9]\n",
            " [   3    2    0    0   12    1    0    5    2  984]]\n",
            "Classification Report for Traditional:\n",
            "              precision    recall  f1-score   support\n",
            "\n",
            "           0       0.99      0.98      0.98       980\n",
            "           1       0.99      0.99      0.99      1135\n",
            "           2       0.96      0.97      0.97      1032\n",
            "           3       0.96      0.97      0.97      1010\n",
            "           4       0.97      0.97      0.97       982\n",
            "           5       0.98      0.96      0.97       892\n",
            "           6       0.98      0.97      0.98       958\n",
            "           7       0.99      0.96      0.97      1028\n",
            "           8       0.94      0.98      0.96       974\n",
            "           9       0.96      0.97      0.96      1009\n",
            "\n",
            "    accuracy                           0.97     10000\n",
            "   macro avg       0.97      0.97      0.97     10000\n",
            "weighted avg       0.97      0.97      0.97     10000\n",
            "\n",
            "Confusion Matrix for Traditional:\n",
            "[[ 957    0    3    2    1    4    5    2    5    1]\n",
            " [   0 1125    3    1    0    0    2    0    4    0]\n",
            " [   3    3 1005    5    1    0    0    1   14    0]\n",
            " [   0    0    7  984    0    5    0    2    9    3]\n",
            " [   1    0    8    1  951    1    3    2    2   13]\n",
            " [   2    1    0    9    2  855    4    0   13    6]\n",
            " [   2    4    3    1    8    2  933    0    5    0]\n",
            " [   1    5   13    9    4    0    0  983    2   11]\n",
            " [   1    1    2    6    0    3    1    3  953    4]\n",
            " [   1    3    0   10   10    0    0    2    9  974]]\n"
          ]
        }
      ]
    },
    {
      "cell_type": "markdown",
      "source": [
        "Сравнение метрик\n",
        "1. Accuracy (Точность классификации)\n",
        "SOM + GA: 98% (0.98)\n",
        "Традиционная модель: 97% (0.97)\n",
        "Модель с использованием SOM + GA немного лучше в общей точности.\n",
        "\n",
        "2. Precision, Recall, F1-Score\n",
        "SOM + GA:\n",
        "Precision, Recall и F1-Score для большинства классов близки к 0.98–0.99, что указывает на высокую точность предсказаний для всех классов.\n",
        "Особенно высокая точность для классов 1, 6, и 0.\n",
        "Традиционная модель:\n",
        "Precision и Recall для большинства классов немного ниже (0.96–0.99).\n",
        "Классы 2, 3, и 8 демонстрируют незначительно меньшую точность, чем у модели с SOM + GA.\n",
        "3. Confusion Matrix (Матрица ошибок)\n",
        "SOM + GA:\n",
        "Очень низкий уровень ошибок.\n",
        "Например, для класса 0 модель допустила всего 9 ошибок (всего 980 примеров).\n",
        "Для класса 1 ошибок почти нет.\n",
        "Традиционная модель:\n",
        "Ошибок чуть больше.\n",
        "Например, для класса 0 модель допустила 23 ошибки.\n",
        "Класс 8 демонстрирует относительно больше ошибок в сравнении с SOM + GA.\n",
        "Визуализация матрицы ошибок\n",
        "Матрица ошибок дает возможность понять, где модели совершают ошибки. Например:\n",
        "\n",
        "SOM + GA:\n",
        "Очень точные предсказания для всех классов.\n",
        "Класс 5 показывает небольшие ошибки, путая некоторые примеры с классом 3.\n",
        "Традиционная модель:\n",
        "Более высокий уровень ошибок, особенно для классов 8, 5, и 4.\n",
        "Рекомендации для улучшения:\n",
        "Анализ ошибок:\n",
        "\n",
        "Большинство ошибок в обеих моделях происходит между схожими по визуальному представлению классами, например 3 и 5, или 4 и 9.\n",
        "Можно попробовать использовать архитектуры сверточных нейронных сетей (CNN), чтобы улучшить качество предсказаний для сложных классов.\n",
        "Тонкая настройка гиперпараметров:\n",
        "\n",
        "SOM + GA показала свои преимущества, но можно провести дополнительную оптимизацию параметров SOM и генетического алгоритма для улучшения производительности.\n",
        "Введение новых методов регуляризации:\n",
        "\n",
        "Dropout или Batch Normalization могут помочь традиционной модели справиться с переобучением.\n",
        "Заключение\n",
        "Модель с использованием SOM + GA демонстрирует лучшее качество классификации, чем традиционная модель:\n",
        "\n",
        "Более высокая точность.\n",
        "Более сбалансированные метрики (Precision, Recall, F1-Score).\n",
        "Меньше ошибок, особенно в сложных для классификации классах.\n",
        "Эти результаты подтверждают, что комбинирование методов (SOM для кластеризации и GA для оптимизации) эффективно улучшает производительность модели."
      ],
      "metadata": {
        "id": "VXtL9MelDwaz"
      }
    }
  ]
}